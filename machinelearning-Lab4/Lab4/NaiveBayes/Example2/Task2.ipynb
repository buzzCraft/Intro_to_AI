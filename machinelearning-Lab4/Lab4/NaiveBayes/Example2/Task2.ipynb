{
 "cells": [
  {
   "cell_type": "code",
   "execution_count": 10,
   "metadata": {},
   "outputs": [],
   "source": [
    "import pandas as pd\n",
    "from sklearn.model_selection import train_test_split "
   ]
  },
  {
   "cell_type": "markdown",
   "metadata": {},
   "source": [
    "## Importing Dataset"
   ]
  },
  {
   "cell_type": "code",
   "execution_count": 11,
   "metadata": {},
   "outputs": [
    {
     "data": {
      "text/html": [
       "<div>\n",
       "<style scoped>\n",
       "    .dataframe tbody tr th:only-of-type {\n",
       "        vertical-align: middle;\n",
       "    }\n",
       "\n",
       "    .dataframe tbody tr th {\n",
       "        vertical-align: top;\n",
       "    }\n",
       "\n",
       "    .dataframe thead th {\n",
       "        text-align: right;\n",
       "    }\n",
       "</style>\n",
       "<table border=\"1\" class=\"dataframe\">\n",
       "  <thead>\n",
       "    <tr style=\"text-align: right;\">\n",
       "      <th></th>\n",
       "      <th>Unnamed: 0</th>\n",
       "      <th>label</th>\n",
       "      <th>text</th>\n",
       "    </tr>\n",
       "  </thead>\n",
       "  <tbody>\n",
       "    <tr>\n",
       "      <th>0</th>\n",
       "      <td>605</td>\n",
       "      <td>ham</td>\n",
       "      <td>Subject: enron methanol ; meter # : 988291\\r\\n...</td>\n",
       "    </tr>\n",
       "    <tr>\n",
       "      <th>1</th>\n",
       "      <td>2349</td>\n",
       "      <td>ham</td>\n",
       "      <td>Subject: hpl nom for january 9 , 2001\\r\\n( see...</td>\n",
       "    </tr>\n",
       "    <tr>\n",
       "      <th>2</th>\n",
       "      <td>3624</td>\n",
       "      <td>ham</td>\n",
       "      <td>Subject: neon retreat\\r\\nho ho ho , we ' re ar...</td>\n",
       "    </tr>\n",
       "    <tr>\n",
       "      <th>3</th>\n",
       "      <td>4685</td>\n",
       "      <td>spam</td>\n",
       "      <td>Subject: photoshop , windows , office . cheap ...</td>\n",
       "    </tr>\n",
       "    <tr>\n",
       "      <th>4</th>\n",
       "      <td>2030</td>\n",
       "      <td>ham</td>\n",
       "      <td>Subject: re : indian springs\\r\\nthis deal is t...</td>\n",
       "    </tr>\n",
       "  </tbody>\n",
       "</table>\n",
       "</div>"
      ],
      "text/plain": [
       "   Unnamed: 0 label                                               text\n",
       "0         605   ham  Subject: enron methanol ; meter # : 988291\\r\\n...\n",
       "1        2349   ham  Subject: hpl nom for january 9 , 2001\\r\\n( see...\n",
       "2        3624   ham  Subject: neon retreat\\r\\nho ho ho , we ' re ar...\n",
       "3        4685  spam  Subject: photoshop , windows , office . cheap ...\n",
       "4        2030   ham  Subject: re : indian springs\\r\\nthis deal is t..."
      ]
     },
     "execution_count": 11,
     "metadata": {},
     "output_type": "execute_result"
    }
   ],
   "source": [
    "dataset = pd.read_csv(\"spam_ham_dataset.csv\")\n",
    "dataset.head()"
   ]
  },
  {
   "cell_type": "markdown",
   "metadata": {},
   "source": [
    "## Data Exploration"
   ]
  },
  {
   "cell_type": "code",
   "execution_count": 12,
   "metadata": {},
   "outputs": [
    {
     "data": {
      "text/html": [
       "<div>\n",
       "<style scoped>\n",
       "    .dataframe tbody tr th:only-of-type {\n",
       "        vertical-align: middle;\n",
       "    }\n",
       "\n",
       "    .dataframe tbody tr th {\n",
       "        vertical-align: top;\n",
       "    }\n",
       "\n",
       "    .dataframe thead tr th {\n",
       "        text-align: left;\n",
       "    }\n",
       "\n",
       "    .dataframe thead tr:last-of-type th {\n",
       "        text-align: right;\n",
       "    }\n",
       "</style>\n",
       "<table border=\"1\" class=\"dataframe\">\n",
       "  <thead>\n",
       "    <tr>\n",
       "      <th></th>\n",
       "      <th colspan=\"8\" halign=\"left\">Unnamed: 0</th>\n",
       "    </tr>\n",
       "    <tr>\n",
       "      <th></th>\n",
       "      <th>count</th>\n",
       "      <th>mean</th>\n",
       "      <th>std</th>\n",
       "      <th>min</th>\n",
       "      <th>25%</th>\n",
       "      <th>50%</th>\n",
       "      <th>75%</th>\n",
       "      <th>max</th>\n",
       "    </tr>\n",
       "    <tr>\n",
       "      <th>label</th>\n",
       "      <th></th>\n",
       "      <th></th>\n",
       "      <th></th>\n",
       "      <th></th>\n",
       "      <th></th>\n",
       "      <th></th>\n",
       "      <th></th>\n",
       "      <th></th>\n",
       "    </tr>\n",
       "  </thead>\n",
       "  <tbody>\n",
       "    <tr>\n",
       "      <th>ham</th>\n",
       "      <td>3672.0</td>\n",
       "      <td>1835.5</td>\n",
       "      <td>1060.159422</td>\n",
       "      <td>0.0</td>\n",
       "      <td>917.75</td>\n",
       "      <td>1835.5</td>\n",
       "      <td>2753.25</td>\n",
       "      <td>3671.0</td>\n",
       "    </tr>\n",
       "    <tr>\n",
       "      <th>spam</th>\n",
       "      <td>1499.0</td>\n",
       "      <td>4421.0</td>\n",
       "      <td>432.868340</td>\n",
       "      <td>3672.0</td>\n",
       "      <td>4046.50</td>\n",
       "      <td>4421.0</td>\n",
       "      <td>4795.50</td>\n",
       "      <td>5170.0</td>\n",
       "    </tr>\n",
       "  </tbody>\n",
       "</table>\n",
       "</div>"
      ],
      "text/plain": [
       "      Unnamed: 0                                                         \\\n",
       "           count    mean          std     min      25%     50%      75%   \n",
       "label                                                                     \n",
       "ham       3672.0  1835.5  1060.159422     0.0   917.75  1835.5  2753.25   \n",
       "spam      1499.0  4421.0   432.868340  3672.0  4046.50  4421.0  4795.50   \n",
       "\n",
       "               \n",
       "          max  \n",
       "label          \n",
       "ham    3671.0  \n",
       "spam   5170.0  "
      ]
     },
     "execution_count": 12,
     "metadata": {},
     "output_type": "execute_result"
    }
   ],
   "source": [
    "## Let's Do some data exploration. We can group the data by catagory name,\n",
    "## In this case we have two catagories, \"label\", \"text\"!\n",
    "\n",
    "dataset.groupby('label').describe()"
   ]
  },
  {
   "cell_type": "markdown",
   "metadata": {},
   "source": [
    "\n",
    "Important thing to remember, machine learning models only understand numbers not textual data (strings).\n",
    "Whenever we deal with text-based data columns, We need to convert them into numbers.\n",
    "\n",
    "Let's Convert the \"label\" column in number format. (0,1)\n",
    "Here, apply() funtion can be used for the purpose.\n",
    "\n"
   ]
  },
  {
   "cell_type": "code",
   "execution_count": 13,
   "metadata": {
    "scrolled": false
   },
   "outputs": [
    {
     "data": {
      "text/html": [
       "<div>\n",
       "<style scoped>\n",
       "    .dataframe tbody tr th:only-of-type {\n",
       "        vertical-align: middle;\n",
       "    }\n",
       "\n",
       "    .dataframe tbody tr th {\n",
       "        vertical-align: top;\n",
       "    }\n",
       "\n",
       "    .dataframe thead th {\n",
       "        text-align: right;\n",
       "    }\n",
       "</style>\n",
       "<table border=\"1\" class=\"dataframe\">\n",
       "  <thead>\n",
       "    <tr style=\"text-align: right;\">\n",
       "      <th></th>\n",
       "      <th>Unnamed: 0</th>\n",
       "      <th>label</th>\n",
       "      <th>text</th>\n",
       "      <th>spam</th>\n",
       "    </tr>\n",
       "  </thead>\n",
       "  <tbody>\n",
       "    <tr>\n",
       "      <th>0</th>\n",
       "      <td>605</td>\n",
       "      <td>ham</td>\n",
       "      <td>Subject: enron methanol ; meter # : 988291\\r\\n...</td>\n",
       "      <td>0</td>\n",
       "    </tr>\n",
       "    <tr>\n",
       "      <th>1</th>\n",
       "      <td>2349</td>\n",
       "      <td>ham</td>\n",
       "      <td>Subject: hpl nom for january 9 , 2001\\r\\n( see...</td>\n",
       "      <td>0</td>\n",
       "    </tr>\n",
       "    <tr>\n",
       "      <th>2</th>\n",
       "      <td>3624</td>\n",
       "      <td>ham</td>\n",
       "      <td>Subject: neon retreat\\r\\nho ho ho , we ' re ar...</td>\n",
       "      <td>0</td>\n",
       "    </tr>\n",
       "    <tr>\n",
       "      <th>3</th>\n",
       "      <td>4685</td>\n",
       "      <td>spam</td>\n",
       "      <td>Subject: photoshop , windows , office . cheap ...</td>\n",
       "      <td>1</td>\n",
       "    </tr>\n",
       "    <tr>\n",
       "      <th>4</th>\n",
       "      <td>2030</td>\n",
       "      <td>ham</td>\n",
       "      <td>Subject: re : indian springs\\r\\nthis deal is t...</td>\n",
       "      <td>0</td>\n",
       "    </tr>\n",
       "  </tbody>\n",
       "</table>\n",
       "</div>"
      ],
      "text/plain": [
       "   Unnamed: 0 label                                               text  spam\n",
       "0         605   ham  Subject: enron methanol ; meter # : 988291\\r\\n...     0\n",
       "1        2349   ham  Subject: hpl nom for january 9 , 2001\\r\\n( see...     0\n",
       "2        3624   ham  Subject: neon retreat\\r\\nho ho ho , we ' re ar...     0\n",
       "3        4685  spam  Subject: photoshop , windows , office . cheap ...     1\n",
       "4        2030   ham  Subject: re : indian springs\\r\\nthis deal is t...     0"
      ]
     },
     "execution_count": 13,
     "metadata": {},
     "output_type": "execute_result"
    }
   ],
   "source": [
    "\n",
    "dataset['spam'] = dataset['label'].apply(lambda x: 1 if x=='spam' else 0)\n",
    "dataset.head()\n",
    "\n",
    "# Here 'Lambda' function takes each & every value of the 'label' column & checks if \n",
    "# Value is 'spam' it will return 1 else 0 (in case of 'ham' return value will be '0')"
   ]
  },
  {
   "cell_type": "markdown",
   "metadata": {},
   "source": [
    " Usually when we are dealing with complex datasets, We avoid to train the model with entire dataset\n",
    " It is not a good practice, Good strategy is to 'Split' the data into 2 parts.\n",
    "\n",
    "  Part_1: Can be used for training the model! \n",
    "  \n",
    "  Part_2: Can be used for Testing purpose."
   ]
  },
  {
   "cell_type": "code",
   "execution_count": 14,
   "metadata": {},
   "outputs": [],
   "source": [
    "\n",
    "from sklearn.model_selection import train_test_split\n",
    "\n",
    "X_train, X_test, y_train, y_test = train_test_split(dataset.text,dataset.spam, test_size=0.30)\n",
    "\n",
    "\n",
    "# Here train_test_split is used to split the model into two parts, part:1 training and part_2: testing.\n",
    "# test_size: 0.3 mean that we want to train the model with 0.7% of the data, remaining will be used for Testing purposes.\n"
   ]
  },
  {
   "cell_type": "code",
   "execution_count": 15,
   "metadata": {},
   "outputs": [
    {
     "data": {
      "text/plain": [
       "0        ham\n",
       "1        ham\n",
       "2        ham\n",
       "3       spam\n",
       "4        ham\n",
       "        ... \n",
       "5166     ham\n",
       "5167     ham\n",
       "5168     ham\n",
       "5169     ham\n",
       "5170    spam\n",
       "Name: label, Length: 5171, dtype: object"
      ]
     },
     "execution_count": 15,
     "metadata": {},
     "output_type": "execute_result"
    }
   ],
   "source": [
    "dataset.label"
   ]
  },
  {
   "cell_type": "code",
   "execution_count": 16,
   "metadata": {},
   "outputs": [
    {
     "data": {
      "text/plain": [
       "0       Subject: enron methanol ; meter # : 988291\\r\\n...\n",
       "1       Subject: hpl nom for january 9 , 2001\\r\\n( see...\n",
       "2       Subject: neon retreat\\r\\nho ho ho , we ' re ar...\n",
       "3       Subject: photoshop , windows , office . cheap ...\n",
       "4       Subject: re : indian springs\\r\\nthis deal is t...\n",
       "                              ...                        \n",
       "5166    Subject: put the 10 on the ft\\r\\nthe transport...\n",
       "5167    Subject: 3 / 4 / 2000 and following noms\\r\\nhp...\n",
       "5168    Subject: calpine daily gas nomination\\r\\n>\\r\\n...\n",
       "5169    Subject: industrial worksheets for august 2000...\n",
       "5170    Subject: important online banking alert\\r\\ndea...\n",
       "Name: text, Length: 5171, dtype: object"
      ]
     },
     "execution_count": 16,
     "metadata": {},
     "output_type": "execute_result"
    }
   ],
   "source": [
    "# Output will show the textual data, that later we need to convert in 'Numbers' for further usage!\n",
    "\n",
    "dataset.text"
   ]
  },
  {
   "cell_type": "code",
   "execution_count": 17,
   "metadata": {},
   "outputs": [],
   "source": [
    "# Remeber? we needed to convert the 'text columns' into numbers somehow? Let's do with \"test\" column."
   ]
  },
  {
   "cell_type": "markdown",
   "metadata": {},
   "source": [
    "## Training and Testing"
   ]
  },
  {
   "cell_type": "markdown",
   "metadata": {},
   "source": [
    " 'test' column contains huge amount of textual data, unlike 'label' column where it has two lable names 'spam' & 'ham' \n",
    " To start We can asign each letter a number value but in real world it is not a sufficient technique.\n",
    " For this column, we will use \"Count Vectorizer Technique\". Where we will find unique words and treat them as a features."
   ]
  },
  {
   "cell_type": "code",
   "execution_count": 18,
   "metadata": {},
   "outputs": [
    {
     "data": {
      "text/plain": [
       "array([[3, 0, 0, ..., 0, 0, 0],\n",
       "       [1, 0, 0, ..., 0, 0, 0],\n",
       "       [0, 0, 0, ..., 0, 0, 0],\n",
       "       [0, 0, 0, ..., 0, 0, 0]], dtype=int64)"
      ]
     },
     "execution_count": 18,
     "metadata": {},
     "output_type": "execute_result"
    }
   ],
   "source": [
    "from sklearn.feature_extraction.text import CountVectorizer\n",
    "v = CountVectorizer()\n",
    "X_train_count = v.fit_transform(X_train.values)\n",
    "X_train_count.toarray()[:4]\n",
    "\n",
    "# This code is creating a matrix, these numbers are representation of unique words in our data set\n",
    "# sklearn CountVectorizer will convert email text into numbers (Matrix representation)."
   ]
  },
  {
   "cell_type": "markdown",
   "metadata": {},
   "source": [
    "'text' column has large amount of data, to convert that textual data we will use \"MultinomialNB\".\n",
    " MultinomialNB is used for handling concrete data (i.e, movie rating with rotten tomattos %age etc),\n",
    " \n",
    " In Textual form we have the count of each word to predict the label or class."
   ]
  },
  {
   "cell_type": "code",
   "execution_count": 19,
   "metadata": {
    "scrolled": true
   },
   "outputs": [
    {
     "data": {
      "text/plain": [
       "MultinomialNB()"
      ]
     },
     "execution_count": 19,
     "metadata": {},
     "output_type": "execute_result"
    }
   ],
   "source": [
    "from sklearn.naive_bayes import MultinomialNB\n",
    "model = MultinomialNB()\n",
    "model.fit(X_train_count,y_train)\n",
    "\n",
    "#  Here we will run 'model.fit()' function on  X_train_count,y_train\n",
    "# \"X_train_count\" contains the text that was converted into number metrix."
   ]
  },
  {
   "cell_type": "markdown",
   "metadata": {},
   "source": [
    "## Evaluation"
   ]
  },
  {
   "cell_type": "code",
   "execution_count": 20,
   "metadata": {},
   "outputs": [
    {
     "data": {
      "text/plain": [
       "array([0, 1], dtype=int64)"
      ]
     },
     "execution_count": 20,
     "metadata": {},
     "output_type": "execute_result"
    }
   ],
   "source": [
    "# Let's do some evaluation testing of our model.\n",
    "\n",
    "emails = [\n",
    "    'subject: Dear Usman, Lets Play football?',\n",
    "    'subject: 1 billion Nok lottery, for doing nothing, Dont miss this reward!',\n",
    "]\n",
    "\n",
    "emails_count = v.transform(emails)\n",
    "model.predict(emails_count)\n",
    "\n",
    "# Return = 1 means Spam!\n",
    "# Return = 0 means Ham!"
   ]
  },
  {
   "cell_type": "code",
   "execution_count": 21,
   "metadata": {},
   "outputs": [
    {
     "data": {
      "text/html": [
       "<div>\n",
       "<style scoped>\n",
       "    .dataframe tbody tr th:only-of-type {\n",
       "        vertical-align: middle;\n",
       "    }\n",
       "\n",
       "    .dataframe tbody tr th {\n",
       "        vertical-align: top;\n",
       "    }\n",
       "\n",
       "    .dataframe thead th {\n",
       "        text-align: right;\n",
       "    }\n",
       "</style>\n",
       "<table border=\"1\" class=\"dataframe\">\n",
       "  <thead>\n",
       "    <tr style=\"text-align: right;\">\n",
       "      <th></th>\n",
       "      <th>Unnamed: 0</th>\n",
       "      <th>label</th>\n",
       "      <th>text</th>\n",
       "      <th>spam</th>\n",
       "    </tr>\n",
       "  </thead>\n",
       "  <tbody>\n",
       "    <tr>\n",
       "      <th>0</th>\n",
       "      <td>605</td>\n",
       "      <td>ham</td>\n",
       "      <td>Subject: enron methanol ; meter # : 988291\\r\\n...</td>\n",
       "      <td>0</td>\n",
       "    </tr>\n",
       "    <tr>\n",
       "      <th>1</th>\n",
       "      <td>2349</td>\n",
       "      <td>ham</td>\n",
       "      <td>Subject: hpl nom for january 9 , 2001\\r\\n( see...</td>\n",
       "      <td>0</td>\n",
       "    </tr>\n",
       "    <tr>\n",
       "      <th>2</th>\n",
       "      <td>3624</td>\n",
       "      <td>ham</td>\n",
       "      <td>Subject: neon retreat\\r\\nho ho ho , we ' re ar...</td>\n",
       "      <td>0</td>\n",
       "    </tr>\n",
       "    <tr>\n",
       "      <th>3</th>\n",
       "      <td>4685</td>\n",
       "      <td>spam</td>\n",
       "      <td>Subject: photoshop , windows , office . cheap ...</td>\n",
       "      <td>1</td>\n",
       "    </tr>\n",
       "    <tr>\n",
       "      <th>4</th>\n",
       "      <td>2030</td>\n",
       "      <td>ham</td>\n",
       "      <td>Subject: re : indian springs\\r\\nthis deal is t...</td>\n",
       "      <td>0</td>\n",
       "    </tr>\n",
       "  </tbody>\n",
       "</table>\n",
       "</div>"
      ],
      "text/plain": [
       "   Unnamed: 0 label                                               text  spam\n",
       "0         605   ham  Subject: enron methanol ; meter # : 988291\\r\\n...     0\n",
       "1        2349   ham  Subject: hpl nom for january 9 , 2001\\r\\n( see...     0\n",
       "2        3624   ham  Subject: neon retreat\\r\\nho ho ho , we ' re ar...     0\n",
       "3        4685  spam  Subject: photoshop , windows , office . cheap ...     1\n",
       "4        2030   ham  Subject: re : indian springs\\r\\nthis deal is t...     0"
      ]
     },
     "execution_count": 21,
     "metadata": {},
     "output_type": "execute_result"
    }
   ],
   "source": [
    "dataset.head()"
   ]
  },
  {
   "cell_type": "markdown",
   "metadata": {},
   "source": [
    "## Accuracy Count"
   ]
  },
  {
   "cell_type": "code",
   "execution_count": 22,
   "metadata": {},
   "outputs": [
    {
     "data": {
      "text/plain": [
       "0.9768041237113402"
      ]
     },
     "execution_count": 22,
     "metadata": {},
     "output_type": "execute_result"
    }
   ],
   "source": [
    "#Accuracy Test\n",
    "\n",
    "X_test_count = v.transform(X_test)\n",
    "model.score(X_test_count, y_test)\n",
    "\n",
    "# (X_test) we need to transform/convert it to number count, As our model only works on numbers not on strings.\n",
    "# Than we are feeding it to the model."
   ]
  },
  {
   "cell_type": "markdown",
   "metadata": {},
   "source": [
    "## In this example, Our Accuracy test is above 95%."
   ]
  },
  {
   "cell_type": "code",
   "execution_count": null,
   "metadata": {},
   "outputs": [],
   "source": []
  }
 ],
 "metadata": {
  "kernelspec": {
   "display_name": "Python 3",
   "language": "python",
   "name": "python3"
  },
  "language_info": {
   "codemirror_mode": {
    "name": "ipython",
    "version": 3
   },
   "file_extension": ".py",
   "mimetype": "text/x-python",
   "name": "python",
   "nbconvert_exporter": "python",
   "pygments_lexer": "ipython3",
   "version": "3.8.5"
  }
 },
 "nbformat": 4,
 "nbformat_minor": 4
}
